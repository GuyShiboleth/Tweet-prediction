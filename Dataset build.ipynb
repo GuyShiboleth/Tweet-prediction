{
 "cells": [
  {
   "cell_type": "code",
   "execution_count": null,
   "metadata": {
    "id": "JdY8QAqrZmnN"
   },
   "outputs": [],
   "source": [
    "import tensorflow as tf\n",
    "from tensorflow import keras\n",
    "from keras import layers\n",
    "from keras.utils import plot_model\n",
    "import pandas as pd\n",
    "import math\n",
    "import warnings\n",
    "\n",
    "import tweepy"
   ]
  },
  {
   "cell_type": "code",
   "execution_count": null,
   "metadata": {
    "id": "9Ujj1ebTZ6H8"
   },
   "outputs": [],
   "source": [
    "df = pd.read_excel(\"C://Users\\guysh\\OneDrive\\Documents\\Guy School\\הנדסת תוכנה\\יב\\פרויקט סופי\\senators and their ages.xlsx\")"
   ]
  },
  {
   "cell_type": "code",
   "execution_count": null,
   "metadata": {
    "colab": {
     "base_uri": "https://localhost:8080/",
     "height": 424
    },
    "id": "OFTEFH-DuX-Q",
    "outputId": "d895fa5b-c6da-42b8-923c-dd2b57abd90d"
   },
   "outputs": [],
   "source": [
    "df = df.drop(['State Name','state abv','Abbrev','First Name','Last Name'], axis=1)\n",
    "\n",
    "df"
   ]
  },
  {
   "cell_type": "code",
   "execution_count": null,
   "metadata": {
    "id": "G_46B30zg6qR"
   },
   "outputs": [],
   "source": [
    "api_key = \"aAscR03t3Q3t93Ved1Gia1Uak\"\n",
    "api_key_secret = \"ZAto2kY6cQDIRc4Ez0LJSlU7TFgpkq9IsVpidZrAE8IGmlAsgZ\"\n",
    "api_bearer_token = \"AAAAAAAAAAAAAAAAAAAAACtmhAEAAAAAywHX4WJjRAxM4s9TmYPa8Uu5Az8%3D7aLtKEaihvIFxqrTDhV5xXwoXstfrWx5Dimr0bLrghi8E2ZYjG\"\n",
    "access_token = \"1042055001554780161-JIGrhoveobzmKo5NekGVuaKq293dtM\"\n",
    "access_token_secret = \"Ss7mMzXvZhzwe0x3aC0SjRQI9ILTEEW3BonvL9k4zS6iY\"\n",
    "\n",
    "auth = tweepy.OAuthHandler(api_key, api_key_secret)\n",
    "auth.set_access_token(access_token, access_token_secret)\n",
    "api = tweepy.API(auth)"
   ]
  },
  {
   "cell_type": "code",
   "execution_count": null,
   "metadata": {
    "id": "m5F_DevNmP6C"
   },
   "outputs": [],
   "source": [
    "def get_all_tweets(screen_name):\n",
    "    #Twitter only allows access to a users most recent 3240 tweets with this method\n",
    "    \n",
    "    #initialize a list to hold all the tweepy Tweets\n",
    "    all_tweets = []  \n",
    "    \n",
    "    #make initial request for most recent tweets (200 is the maximum allowed count)\n",
    "    new_tweets = api.user_timeline(screen_name = screen_name,count=200)\n",
    "    \n",
    "    #save most recent tweets\n",
    "    all_tweets.extend(new_tweets)\n",
    "    \n",
    "    #save the id of the oldest tweet less one\n",
    "    oldest = all_tweets[-1].id - 1\n",
    "    \n",
    "    #keep grabbing tweets until there are no tweets left to grab\n",
    "    while len(new_tweets) > 0:        \n",
    "        #all subsiquent requests use the max_id param to prevent duplicates\n",
    "        new_tweets = api.user_timeline(screen_name = screen_name,count=200,max_id=oldest)\n",
    "        \n",
    "        #save most recent tweets\n",
    "        all_tweets.extend(new_tweets)\n",
    "        \n",
    "        #update the id of the oldest tweet less one\n",
    "        oldest = all_tweets[-1].id - 1\n",
    "        \n",
    "    print(f\"...{len(all_tweets)} tweets downloaded\")\n",
    "    return all_tweets"
   ]
  },
  {
   "cell_type": "code",
   "execution_count": null,
   "metadata": {
    "id": "hhWWMLjo1bBy"
   },
   "outputs": [],
   "source": [
    "# create a function which gets a list of tweets information about each senator and adds it as features of each of their tweets\n",
    "def add_feats_to_tweet(df):\n",
    "    tweets_df = pd.DataFrame(columns=['handle', 'tweet_text', 'tweet_time','state abv','state name','senator name','party','age'])\n",
    "\n",
    "    for index, row in df.iterrows():\n",
    "        # Get the Twitter handle for the current row\n",
    "        handle = row['Twitter Handle']\n",
    "\n",
    "        # Use the tweepy API to get all tweets from the account\n",
    "        print(handle)\n",
    "\n",
    "        tweets = get_all_tweets(handle)\n",
    "\n",
    "        # Loop through the tweets and add them to the DataFrame\n",
    "        for tweet in tweets:\n",
    "            tweets_df = tweets_df.append({\n",
    "                'handle': row['Twitter Handle'],\n",
    "                'tweet_text': tweet.text,\n",
    "                'tweet_time': tweet.created_at,\n",
    "                'state abv':row['State Abv'],\n",
    "                'state name':row['State'],\n",
    "                'senator name':row['Name'],\n",
    "                'party':row['Party'],\n",
    "                'age':row['Age']\n",
    "            }, ignore_index=True)\n",
    "    return tweets_df"
   ]
  },
  {
   "cell_type": "code",
   "execution_count": null,
   "metadata": {
    "colab": {
     "base_uri": "https://localhost:8080/"
    },
    "id": "NziISbOSsY3Y",
    "outputId": "084225c6-a624-466a-9c14-6624bd47f84d",
    "scrolled": true
   },
   "outputs": [],
   "source": [
    "warnings.filterwarnings('ignore')\n",
    "tweets_df = add_feats_to_tweet(df)\n",
    "warnings.filterwarnings('default')"
   ]
  },
  {
   "cell_type": "code",
   "execution_count": null,
   "metadata": {},
   "outputs": [],
   "source": [
    "tweets_df"
   ]
  },
  {
   "cell_type": "code",
   "execution_count": null,
   "metadata": {},
   "outputs": [],
   "source": [
    "type(tweets_df)"
   ]
  },
  {
   "cell_type": "code",
   "execution_count": null,
   "metadata": {},
   "outputs": [],
   "source": [
    "tweets_df['tweet_time'] = tweets_df['tweet_time'].apply(lambda x: x.tz_localize(None))"
   ]
  },
  {
   "cell_type": "code",
   "execution_count": null,
   "metadata": {},
   "outputs": [],
   "source": [
    "tweets_df.to_excel(\"C://Users\\guysh\\OneDrive\\Documents\\Guy School\\הנדסת תוכנה\\יב\\פרויקט סופי\\ tweets dataset.xlsx\", index=False)"
   ]
  },
  {
   "cell_type": "code",
   "execution_count": null,
   "metadata": {},
   "outputs": [],
   "source": [
    "tweets_df.to_csv(\"C://Users\\guysh\\OneDrive\\Documents\\Guy School\\הנדסת תוכנה\\יב\\פרויקט סופי\\ tweets dataset csv\", index=False)"
   ]
  }
 ],
 "metadata": {
  "colab": {
   "provenance": []
  },
  "kernelspec": {
   "display_name": "Python 3 (ipykernel)",
   "language": "python",
   "name": "python3"
  },
  "language_info": {
   "codemirror_mode": {
    "name": "ipython",
    "version": 3
   },
   "file_extension": ".py",
   "mimetype": "text/x-python",
   "name": "python",
   "nbconvert_exporter": "python",
   "pygments_lexer": "ipython3",
   "version": "3.9.13"
  }
 },
 "nbformat": 4,
 "nbformat_minor": 1
}
